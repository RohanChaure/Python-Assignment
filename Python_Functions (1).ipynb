{
 "cells": [
  {
   "cell_type": "markdown",
   "id": "fac387ab",
   "metadata": {},
   "source": [
    "# 1. Write a Python program to get the volume of a sphere with radius 6."
   ]
  },
  {
   "cell_type": "code",
   "execution_count": 1,
   "id": "58ffb15c",
   "metadata": {},
   "outputs": [],
   "source": [
    "radius=6"
   ]
  },
  {
   "cell_type": "code",
   "execution_count": 2,
   "id": "cb16af36",
   "metadata": {},
   "outputs": [],
   "source": [
    "vol=(4.0/3.0)*(22/7)*radius**3"
   ]
  },
  {
   "cell_type": "code",
   "execution_count": 3,
   "id": "a0957a16",
   "metadata": {},
   "outputs": [
    {
     "name": "stdout",
     "output_type": "stream",
     "text": [
      "volume of sphere is: 905.142857142857\n"
     ]
    }
   ],
   "source": [
    "print(\"volume of sphere is:\" ,vol)"
   ]
  },
  {
   "cell_type": "markdown",
   "id": "24508374",
   "metadata": {},
   "source": [
    "# 2. Write a Python program to calculate the sum of three given numbers, if the values are equal then return three times of their sum hint: write User defined functions"
   ]
  },
  {
   "cell_type": "code",
   "execution_count": 4,
   "id": "69499377",
   "metadata": {},
   "outputs": [],
   "source": [
    "def my_fun(a,b,c):\n",
    "    if (a==b & b==c&c==a):\n",
    "        return 3*a;\n",
    "    else:\n",
    "        return a+b+c;"
   ]
  },
  {
   "cell_type": "code",
   "execution_count": 5,
   "id": "11346835",
   "metadata": {},
   "outputs": [
    {
     "data": {
      "text/plain": [
       "6"
      ]
     },
     "execution_count": 5,
     "metadata": {},
     "output_type": "execute_result"
    }
   ],
   "source": [
    "my_fun(1,2,3)"
   ]
  },
  {
   "cell_type": "code",
   "execution_count": 6,
   "id": "d5499966",
   "metadata": {},
   "outputs": [
    {
     "data": {
      "text/plain": [
       "12"
      ]
     },
     "execution_count": 6,
     "metadata": {},
     "output_type": "execute_result"
    }
   ],
   "source": [
    "my_fun(4,4,4)"
   ]
  },
  {
   "cell_type": "markdown",
   "id": "056cb5a5",
   "metadata": {},
   "source": [
    "# 3. Write a Python program to count the number 4 in a given list."
   ]
  },
  {
   "cell_type": "code",
   "execution_count": 7,
   "id": "0a453bae",
   "metadata": {},
   "outputs": [],
   "source": [
    "List = [1,4,6,8,4,9,4]\n",
    "count=0;"
   ]
  },
  {
   "cell_type": "code",
   "execution_count": 8,
   "id": "dc8469c1",
   "metadata": {},
   "outputs": [
    {
     "name": "stdout",
     "output_type": "stream",
     "text": [
      "3\n"
     ]
    }
   ],
   "source": [
    "for i in List:\n",
    "    \n",
    "    if (i==4):\n",
    "        count=count+1\n",
    "\n",
    "        \n",
    "print(count)"
   ]
  },
  {
   "cell_type": "markdown",
   "id": "384c41ee",
   "metadata": {},
   "source": [
    "# 4. Write a Python program to print all even numbers from a given numbers list in the same order and stop the printing if any numbers that come after 237 in the sequence. Go to the editorSample numbers list :\n",
    "\n",
    "399, 162, 758, 219, 918, 237, 412, 566, 826, 248, 866, 950, 626, 949, 687, 217,\n",
    "\n",
    "815, 67, 104, 58, 512, 24, 892, 894, 767, 553, 81, 379, 843, 831, 445, 742, 717,\n",
    "\n",
    "958,743, 527]"
   ]
  },
  {
   "cell_type": "code",
   "execution_count": 9,
   "id": "311370b6",
   "metadata": {},
   "outputs": [],
   "source": [
    "Lt=[399, 162, 758, 219, 918, 237, 412, 566, 826, 248, 866, 950, 626, 949, 687, 217,\n",
    "\n",
    "815, 67, 104, 58, 512, 24, 892, 894, 767, 553, 81, 379, 843, 831, 445, 742, 717,\n",
    "\n",
    "958,743, 527]"
   ]
  },
  {
   "cell_type": "code",
   "execution_count": 10,
   "id": "365366de",
   "metadata": {},
   "outputs": [
    {
     "name": "stdout",
     "output_type": "stream",
     "text": [
      "162\n",
      "758\n",
      "918\n",
      "237\n"
     ]
    }
   ],
   "source": [
    "for i in Lt:\n",
    "    if i==237:\n",
    "        print(i)\n",
    "        break;\n",
    "    elif (i%2==0 ):\n",
    "        print(i)"
   ]
  },
  {
   "cell_type": "markdown",
   "id": "d7ecdbb7",
   "metadata": {},
   "source": [
    "# 5. Write a Python program to find those numbers which are divisible by 7 and multiple of 5, between 1500 and 2700 (both included)"
   ]
  },
  {
   "cell_type": "code",
   "execution_count": 11,
   "id": "b499932a",
   "metadata": {},
   "outputs": [
    {
     "name": "stdout",
     "output_type": "stream",
     "text": [
      "1505\n",
      "1540\n",
      "1575\n",
      "1610\n",
      "1645\n",
      "1680\n",
      "1715\n",
      "1750\n",
      "1785\n",
      "1820\n",
      "1855\n",
      "1890\n",
      "1925\n",
      "1960\n",
      "1995\n",
      "2030\n",
      "2065\n",
      "2100\n",
      "2135\n",
      "2170\n",
      "2205\n",
      "2240\n",
      "2275\n",
      "2310\n",
      "2345\n",
      "2380\n",
      "2415\n",
      "2450\n",
      "2485\n",
      "2520\n",
      "2555\n",
      "2590\n",
      "2625\n",
      "2660\n",
      "2695\n"
     ]
    }
   ],
   "source": [
    "num=range(1500,2701)\n",
    "for i in num:\n",
    "        if(i%7==0) and (i%5==0):\n",
    "            print(i)"
   ]
  },
  {
   "cell_type": "markdown",
   "id": "93755758",
   "metadata": {},
   "source": [
    "# 6. Write a Python program that prints all the numbers from 0 to 6 except 3 and 6.\n",
    "\n",
    "Note : Use 'continue' statement.\n",
    "\n",
    "Expected Output : 0 1 2 4 5"
   ]
  },
  {
   "cell_type": "markdown",
   "id": "75a237e1",
   "metadata": {},
   "source": [
    "# 7. Write a Python program to get the Fibonacci series between 0 to 50.\n",
    "\n",
    "Note : The Fibonacci Sequence is the series of numbers :\n",
    "\n",
    "0, 1, 1, 2, 3, 5, 8, 13, 21, ....\n",
    "\n",
    "Every next number is found by adding up the two numbers before it.\n",
    "\n",
    "Expected Output : 1 1 2 3 5 8 13 21 34"
   ]
  },
  {
   "cell_type": "code",
   "execution_count": 1,
   "id": "2a7606d0",
   "metadata": {},
   "outputs": [
    {
     "name": "stdout",
     "output_type": "stream",
     "text": [
      "1 1 2 3 5 8 13 21 34 "
     ]
    }
   ],
   "source": [
    "x = 0\n",
    "y = 1\n",
    "while y<50 :\n",
    "    print(y, end=\" \")\n",
    "    x, y = y, x+y"
   ]
  },
  {
   "cell_type": "markdown",
   "id": "af4782f7",
   "metadata": {},
   "source": [
    "# 8. Write a Python program to get the Fibonacci series between 0 to 50.\n",
    "\n",
    "Note : The Fibonacci Sequence is the series of numbers :\n",
    "\n",
    "0, 1, 1, 2, 3, 5, 8, 13, 21, ....\n",
    "\n",
    "Every next number is found by adding up the two numbers before it.\n",
    "\n",
    "Expected Output : 1 1 2 3 5 8 13 21 34"
   ]
  },
  {
   "cell_type": "code",
   "execution_count": 2,
   "id": "c019bea3",
   "metadata": {},
   "outputs": [
    {
     "name": "stdout",
     "output_type": "stream",
     "text": [
      "1 1 2 3 5 8 13 21 34 "
     ]
    }
   ],
   "source": [
    "x = 0\n",
    "y = 1\n",
    "while y<50 :\n",
    "    print(y, end=\" \")\n",
    "    x, y = y, x+y"
   ]
  },
  {
   "cell_type": "markdown",
   "id": "7d5992fe",
   "metadata": {},
   "source": [
    "# 9. Write a Python function that takes a list and returns a new list with unique elements of the first list.\n",
    "\n",
    "Sample List : [1,2,3,3,3,3,4,5]\n",
    "\n",
    "Unique List : [1, 2, 3, 4, 5]"
   ]
  },
  {
   "cell_type": "code",
   "execution_count": null,
   "id": "80e65cd3",
   "metadata": {},
   "outputs": [],
   "source": []
  }
 ],
 "metadata": {
  "kernelspec": {
   "display_name": "Python 3 (ipykernel)",
   "language": "python",
   "name": "python3"
  },
  "language_info": {
   "codemirror_mode": {
    "name": "ipython",
    "version": 3
   },
   "file_extension": ".py",
   "mimetype": "text/x-python",
   "name": "python",
   "nbconvert_exporter": "python",
   "pygments_lexer": "ipython3",
   "version": "3.9.7"
  }
 },
 "nbformat": 4,
 "nbformat_minor": 5
}
