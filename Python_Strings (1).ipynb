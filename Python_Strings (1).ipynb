{
 "cells": [
  {
   "cell_type": "markdown",
   "id": "ab4a7467",
   "metadata": {},
   "source": [
    "# 1. Write a Python program to concatenate all elements in a list into a string and return it."
   ]
  },
  {
   "cell_type": "code",
   "execution_count": 1,
   "id": "5d10c78c",
   "metadata": {},
   "outputs": [
    {
     "name": "stdout",
     "output_type": "stream",
     "text": [
      "enter the values'mahesh','shubham'\n",
      " ' m a h e s h ' , ' s h u b h a m '\n"
     ]
    }
   ],
   "source": [
    "list=input(\"enter the values\")\n",
    "string=''\n",
    "\n",
    "for i in list:\n",
    "    string=string+' '+i\n",
    "print(string)"
   ]
  },
  {
   "cell_type": "code",
   "execution_count": null,
   "id": "8e9ec958",
   "metadata": {},
   "outputs": [],
   "source": []
  }
 ],
 "metadata": {
  "kernelspec": {
   "display_name": "Python 3 (ipykernel)",
   "language": "python",
   "name": "python3"
  },
  "language_info": {
   "codemirror_mode": {
    "name": "ipython",
    "version": 3
   },
   "file_extension": ".py",
   "mimetype": "text/x-python",
   "name": "python",
   "nbconvert_exporter": "python",
   "pygments_lexer": "ipython3",
   "version": "3.9.7"
  }
 },
 "nbformat": 4,
 "nbformat_minor": 5
}
