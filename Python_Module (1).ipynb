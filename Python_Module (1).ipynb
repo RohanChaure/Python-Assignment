{
 "cells": [
  {
   "cell_type": "markdown",
   "id": "5dae3abe",
   "metadata": {},
   "source": [
    "# 1. Write a Python program to calculate number of days between two dates. Hint: use Datetime package/module."
   ]
  },
  {
   "cell_type": "code",
   "execution_count": 1,
   "id": "da01b934",
   "metadata": {},
   "outputs": [],
   "source": [
    "import datetime"
   ]
  },
  {
   "cell_type": "code",
   "execution_count": 2,
   "id": "c815966d",
   "metadata": {},
   "outputs": [],
   "source": [
    "from datetime import date"
   ]
  },
  {
   "cell_type": "code",
   "execution_count": 3,
   "id": "1a43028a",
   "metadata": {},
   "outputs": [],
   "source": [
    "date1=date(2014, 7, 2)"
   ]
  },
  {
   "cell_type": "code",
   "execution_count": 4,
   "id": "77f8e9c5",
   "metadata": {},
   "outputs": [],
   "source": [
    "date2=date(2014, 7, 11)"
   ]
  },
  {
   "cell_type": "code",
   "execution_count": 5,
   "id": "7720db6c",
   "metadata": {},
   "outputs": [],
   "source": [
    "difference=date2-date1"
   ]
  },
  {
   "cell_type": "code",
   "execution_count": 6,
   "id": "42b59747",
   "metadata": {},
   "outputs": [
    {
     "name": "stdout",
     "output_type": "stream",
     "text": [
      "9 days, 0:00:00\n"
     ]
    }
   ],
   "source": [
    "print(difference)"
   ]
  },
  {
   "cell_type": "code",
   "execution_count": null,
   "id": "40bb2ca1",
   "metadata": {},
   "outputs": [],
   "source": []
  }
 ],
 "metadata": {
  "kernelspec": {
   "display_name": "Python 3 (ipykernel)",
   "language": "python",
   "name": "python3"
  },
  "language_info": {
   "codemirror_mode": {
    "name": "ipython",
    "version": 3
   },
   "file_extension": ".py",
   "mimetype": "text/x-python",
   "name": "python",
   "nbconvert_exporter": "python",
   "pygments_lexer": "ipython3",
   "version": "3.9.7"
  }
 },
 "nbformat": 4,
 "nbformat_minor": 5
}
