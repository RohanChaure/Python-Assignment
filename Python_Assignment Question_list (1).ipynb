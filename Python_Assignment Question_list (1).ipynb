{
 "cells": [
  {
   "cell_type": "markdown",
   "id": "9aeb0d0c",
   "metadata": {},
   "source": [
    "# 1. Write a Python program which accepts a sequence of comma-separated numbers from user and generate a list and a tuple with those numbers."
   ]
  },
  {
   "cell_type": "code",
   "execution_count": 1,
   "id": "f3008bbe",
   "metadata": {},
   "outputs": [
    {
     "name": "stdout",
     "output_type": "stream",
     "text": [
      "enter the comma seperated values3,5,7,23\n"
     ]
    }
   ],
   "source": [
    "Values=input(\"enter the comma seperated values\")"
   ]
  },
  {
   "cell_type": "code",
   "execution_count": 2,
   "id": "193ffa2c",
   "metadata": {},
   "outputs": [],
   "source": [
    "list = Values.split(\",\")"
   ]
  },
  {
   "cell_type": "code",
   "execution_count": 3,
   "id": "93c46c24",
   "metadata": {},
   "outputs": [],
   "source": [
    "tuple = tuple(list)"
   ]
  },
  {
   "cell_type": "code",
   "execution_count": 4,
   "id": "da2cce29",
   "metadata": {},
   "outputs": [
    {
     "name": "stdout",
     "output_type": "stream",
     "text": [
      "List :  ['3', '5', '7', '23']\n",
      "Tuple :  ('3', '5', '7', '23')\n"
     ]
    }
   ],
   "source": [
    "print('List : ',list)\n",
    "print('Tuple : ',tuple)"
   ]
  },
  {
   "cell_type": "markdown",
   "id": "f75d2e30",
   "metadata": {},
   "source": [
    "# 2. Write a Python program to display the first and last colors from the following list."
   ]
  },
  {
   "cell_type": "code",
   "execution_count": 5,
   "id": "c2bccd7e",
   "metadata": {},
   "outputs": [],
   "source": [
    "color_list = [\"Red\",\"Green\",\"White\" ,\"Black\"]"
   ]
  },
  {
   "cell_type": "code",
   "execution_count": 6,
   "id": "d6f54002",
   "metadata": {},
   "outputs": [
    {
     "data": {
      "text/plain": [
       "'Red'"
      ]
     },
     "execution_count": 6,
     "metadata": {},
     "output_type": "execute_result"
    }
   ],
   "source": [
    "color_list[0]"
   ]
  },
  {
   "cell_type": "code",
   "execution_count": 7,
   "id": "72c2045c",
   "metadata": {},
   "outputs": [
    {
     "data": {
      "text/plain": [
       "'Black'"
      ]
     },
     "execution_count": 7,
     "metadata": {},
     "output_type": "execute_result"
    }
   ],
   "source": [
    "color_list[-1]"
   ]
  },
  {
   "cell_type": "markdown",
   "id": "d5443d39",
   "metadata": {},
   "source": [
    "# 3. Write a Python program to print the even numbers from a given list."
   ]
  },
  {
   "cell_type": "code",
   "execution_count": 9,
   "id": "5c964d43",
   "metadata": {},
   "outputs": [],
   "source": [
    "list1=[1, 2, 3, 4, 5, 6, 7, 8, 9]"
   ]
  },
  {
   "cell_type": "code",
   "execution_count": 10,
   "id": "c1d22257",
   "metadata": {},
   "outputs": [
    {
     "name": "stdout",
     "output_type": "stream",
     "text": [
      "2\n",
      "4\n",
      "6\n",
      "8\n"
     ]
    }
   ],
   "source": [
    "for i in list1:\n",
    "    if i%2==0:\n",
    "        print(i)"
   ]
  },
  {
   "cell_type": "code",
   "execution_count": null,
   "id": "47d8c51e",
   "metadata": {},
   "outputs": [],
   "source": []
  }
 ],
 "metadata": {
  "kernelspec": {
   "display_name": "Python 3 (ipykernel)",
   "language": "python",
   "name": "python3"
  },
  "language_info": {
   "codemirror_mode": {
    "name": "ipython",
    "version": 3
   },
   "file_extension": ".py",
   "mimetype": "text/x-python",
   "name": "python",
   "nbconvert_exporter": "python",
   "pygments_lexer": "ipython3",
   "version": "3.9.7"
  }
 },
 "nbformat": 4,
 "nbformat_minor": 5
}
